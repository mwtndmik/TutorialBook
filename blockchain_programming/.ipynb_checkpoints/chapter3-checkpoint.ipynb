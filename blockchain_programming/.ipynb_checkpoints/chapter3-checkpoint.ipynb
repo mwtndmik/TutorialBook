{
 "cells": [
  {
   "cell_type": "markdown",
   "metadata": {},
   "source": [
    "2.\n",
    "\n",
    "未使用のBTCにはUTXO  \n",
    "ブロックチェーン最長のものが正しい  "
   ]
  },
  {
   "cell_type": "code",
   "execution_count": null,
   "metadata": {},
   "outputs": [],
   "source": []
  },
  {
   "cell_type": "markdown",
   "metadata": {},
   "source": [
    "#### P37. openssl\n"
   ]
  },
  {
   "cell_type": "code",
   "execution_count": 1,
   "metadata": {},
   "outputs": [
    {
     "data": {
      "text/plain": [
       "false"
      ]
     },
     "execution_count": 1,
     "metadata": {},
     "output_type": "execute_result"
    }
   ],
   "source": [
    "require 'openssl'  #already loaded -> false"
   ]
  },
  {
   "cell_type": "code",
   "execution_count": 2,
   "metadata": {},
   "outputs": [
    {
     "data": {
      "text/plain": [
       "#<OpenSSL::PKey::EC:0x007fa177906530>"
      ]
     },
     "execution_count": 2,
     "metadata": {},
     "output_type": "execute_result"
    }
   ],
   "source": [
    "ecdsa = OpenSSL::PKey::EC.new('secp256k1')  \n",
    "#ECDSA暗号処理オブジェクトを作成"
   ]
  },
  {
   "cell_type": "code",
   "execution_count": 3,
   "metadata": {},
   "outputs": [
    {
     "data": {
      "text/plain": [
       "#<OpenSSL::PKey::EC:0x007fa177906530>"
      ]
     },
     "execution_count": 3,
     "metadata": {},
     "output_type": "execute_result"
    }
   ],
   "source": [
    "key = ecdsa.generate_key\n",
    "#新しい暗号鍵を生成"
   ]
  },
  {
   "cell_type": "code",
   "execution_count": 4,
   "metadata": {},
   "outputs": [
    {
     "data": {
      "text/plain": [
       "111146281505134213466847300644781501712955000823248508196022604581936009018494"
      ]
     },
     "execution_count": 4,
     "metadata": {},
     "output_type": "execute_result"
    }
   ],
   "source": [
    "key.private_key.to_i\n",
    "#秘密鍵を整数として取り出す"
   ]
  },
  {
   "cell_type": "code",
   "execution_count": null,
   "metadata": {},
   "outputs": [],
   "source": []
  },
  {
   "cell_type": "markdown",
   "metadata": {},
   "source": [
    "#### P39. securerandommによる安全な乱数"
   ]
  },
  {
   "cell_type": "code",
   "execution_count": 5,
   "metadata": {},
   "outputs": [
    {
     "data": {
      "text/plain": [
       "false"
      ]
     },
     "execution_count": 5,
     "metadata": {},
     "output_type": "execute_result"
    }
   ],
   "source": [
    "require 'securerandom'"
   ]
  },
  {
   "cell_type": "code",
   "execution_count": 6,
   "metadata": {},
   "outputs": [
    {
     "data": {
      "text/plain": [
       "\"55fabda122cb6796ef41970a2622fb992b24f0e41b14a1bbdb83e326c9593376\""
      ]
     },
     "execution_count": 6,
     "metadata": {},
     "output_type": "execute_result"
    }
   ],
   "source": [
    "SecureRandom.hex(32)\n",
    "#32バイト(=256ビット)の擬似乱数を生成"
   ]
  },
  {
   "cell_type": "code",
   "execution_count": null,
   "metadata": {},
   "outputs": [],
   "source": []
  },
  {
   "cell_type": "markdown",
   "metadata": {},
   "source": [
    "#### P39. ruby_ecdsa\n",
    "ECDSAのrubyライブラリ"
   ]
  },
  {
   "cell_type": "code",
   "execution_count": 7,
   "metadata": {},
   "outputs": [
    {
     "data": {
      "text/plain": [
       "true"
      ]
     },
     "execution_count": 7,
     "metadata": {},
     "output_type": "execute_result"
    }
   ],
   "source": [
    "require 'ecdsa'"
   ]
  },
  {
   "cell_type": "code",
   "execution_count": 8,
   "metadata": {},
   "outputs": [
    {
     "data": {
      "text/plain": [
       "#<ECDSA::Group:secp256k1>"
      ]
     },
     "execution_count": 8,
     "metadata": {},
     "output_type": "execute_result"
    }
   ],
   "source": [
    "group = ECDSA::Group::Secp256k1"
   ]
  },
  {
   "cell_type": "code",
   "execution_count": null,
   "metadata": {},
   "outputs": [],
   "source": []
  },
  {
   "cell_type": "markdown",
   "metadata": {},
   "source": [
    "#### P.40 bitcoin-ruby"
   ]
  },
  {
   "cell_type": "code",
   "execution_count": 9,
   "metadata": {},
   "outputs": [
    {
     "data": {
      "text/plain": [
       "true"
      ]
     },
     "execution_count": 9,
     "metadata": {},
     "output_type": "execute_result"
    }
   ],
   "source": [
    "require 'bitcoin'"
   ]
  },
  {
   "cell_type": "code",
   "execution_count": 10,
   "metadata": {},
   "outputs": [
    {
     "data": {
      "text/plain": [
       ":testnet3"
      ]
     },
     "execution_count": 10,
     "metadata": {},
     "output_type": "execute_result"
    }
   ],
   "source": [
    "Bitcoin.network = :testnet3\n",
    "#ビットコインネットワークをtestnet3に設定する"
   ]
  },
  {
   "cell_type": "code",
   "execution_count": 11,
   "metadata": {},
   "outputs": [
    {
     "data": {
      "text/plain": [
       "[\"59f565766974e64eaff35aeb47fa022cd48ec2348967e47b8a7a65bde7f71710\", \"04ac2689f8bd1bfd26b7e87116f6022574b03fe46dd568679e57e7d0ed433ceae4f9f53cb82d01e539842c75d3ffd4f793cf5fffaf608d9f9277f89b0e238e802e\"]"
      ]
     },
     "execution_count": 11,
     "metadata": {},
     "output_type": "execute_result"
    }
   ],
   "source": [
    "key = Bitcoin::generate_key\n",
    "#暗号鍵の生成"
   ]
  },
  {
   "cell_type": "markdown",
   "metadata": {},
   "source": [
    "乱数生成:時間はダメ, CPUなどのハードウェアの挙動をシードに\n",
    "\n",
    "\n",
    "hash関数\n",
    "nonce:1度しか使わないランダムな値\n",
    "\n",
    "message + nonce -> hash\n",
    " open     hide    open\n",
    "\n",
    "BTCマイニング:目標よりも小さいhash値を返すようなnonce値を見つける\n",
    "\n",
    "ハッシュテーブル\n",
    "index=hash(key)\n",
    "key_value=data(index)\n",
    "\n",
    "hash_pointer\n",
    "pointer=hash(data)"
   ]
  },
  {
   "cell_type": "code",
   "execution_count": null,
   "metadata": {},
   "outputs": [],
   "source": []
  },
  {
   "cell_type": "markdown",
   "metadata": {},
   "source": [
    "P44. ruby 暗号学的ハッシュ関数"
   ]
  },
  {
   "cell_type": "code",
   "execution_count": 12,
   "metadata": {},
   "outputs": [
    {
     "data": {
      "text/plain": [
       "false"
      ]
     },
     "execution_count": 12,
     "metadata": {},
     "output_type": "execute_result"
    }
   ],
   "source": [
    "require 'digest'"
   ]
  },
  {
   "cell_type": "code",
   "execution_count": 13,
   "metadata": {},
   "outputs": [
    {
     "data": {
      "text/plain": [
       "\"黒田先輩が起きてない\""
      ]
     },
     "execution_count": 13,
     "metadata": {},
     "output_type": "execute_result"
    }
   ],
   "source": [
    "message = \"黒田先輩が起きてない\""
   ]
  },
  {
   "cell_type": "code",
   "execution_count": 14,
   "metadata": {},
   "outputs": [
    {
     "data": {
      "text/plain": [
       "\"}\\xBA\\xD4\\xDB\\x8C\\f\\xE8\\x8F\\x84\\x04\\x1Ad\\x1F\\xA1\\x8E\\xA2\\xC2\\xBA\\xFF\\x86\\x95xG\\x911`\\xE5Y\\xB3-\\xAF\\xA3\""
      ]
     },
     "execution_count": 14,
     "metadata": {},
     "output_type": "execute_result"
    }
   ],
   "source": [
    "Digest::SHA256.digest(message)\n",
    "#sha256のハッシュ値を求める"
   ]
  },
  {
   "cell_type": "code",
   "execution_count": 15,
   "metadata": {},
   "outputs": [
    {
     "data": {
      "text/plain": [
       "\"\\xD8a\\x80\\xF8lnWoV+\\xA6#\\xFC&-\\xAD\\xDC\\x89\\xE4c\""
      ]
     },
     "execution_count": 15,
     "metadata": {},
     "output_type": "execute_result"
    }
   ],
   "source": [
    "Digest::RMD160.digest(message)\n",
    "#ripemd160のハッシュ値を求める"
   ]
  },
  {
   "cell_type": "markdown",
   "metadata": {},
   "source": [
    "コミットメント"
   ]
  },
  {
   "cell_type": "code",
   "execution_count": 16,
   "metadata": {},
   "outputs": [
    {
     "data": {
      "text/plain": [
       "\"e2b4e04a2e9cab0a8f82a430129ae43cfd04a9e5a8d8f431a95ef48d7dfcbbab\""
      ]
     },
     "execution_count": 16,
     "metadata": {},
     "output_type": "execute_result"
    }
   ],
   "source": [
    "nonce = SecureRandom.hex(32)"
   ]
  },
  {
   "cell_type": "code",
   "execution_count": 18,
   "metadata": {},
   "outputs": [
    {
     "data": {
      "text/plain": [
       "\"\\xC6v\\xA9f\\xC1m\\t~\\xF3\\x19\\xB3\\x8B4\\xC8\\x0F\\x91\\x90\\xD9T\\x14CS1\\xD7\\x04#\\xAF\\xF5\\xB4Bv\\xC9\""
      ]
     },
     "execution_count": 18,
     "metadata": {},
     "output_type": "execute_result"
    }
   ],
   "source": [
    "commitment = Digest::SHA256.digest(nonce+message)"
   ]
  },
  {
   "cell_type": "code",
   "execution_count": 19,
   "metadata": {},
   "outputs": [],
   "source": [
    "#このnonceを保存して起き，計算再現により証明"
   ]
  },
  {
   "cell_type": "code",
   "execution_count": null,
   "metadata": {},
   "outputs": [],
   "source": []
  },
  {
   "cell_type": "markdown",
   "metadata": {},
   "source": [
    "#### P50. 楕円曲線暗号 秘密鍵生成"
   ]
  },
  {
   "cell_type": "code",
   "execution_count": 21,
   "metadata": {},
   "outputs": [
    {
     "data": {
      "text/plain": [
       "#<ECDSA::Group:secp256k1>"
      ]
     },
     "execution_count": 21,
     "metadata": {},
     "output_type": "execute_result"
    }
   ],
   "source": [
    "group = ECDSA::Group::Secp256k1\n",
    "#secp256k1のパラメーターセットのオブジェクト生成"
   ]
  },
  {
   "cell_type": "code",
   "execution_count": 22,
   "metadata": {},
   "outputs": [
    {
     "data": {
      "text/plain": [
       "115792089237316195423570985008687907853269984665640564039457584007908834671663"
      ]
     },
     "execution_count": 22,
     "metadata": {},
     "output_type": "execute_result"
    }
   ],
   "source": [
    "group.field.prime #剰余系の素数p"
   ]
  },
  {
   "cell_type": "code",
   "execution_count": 23,
   "metadata": {},
   "outputs": [
    {
     "data": {
      "text/plain": [
       "55066263022277343669578718895168534326250603453777594175500187360389116729240"
      ]
     },
     "execution_count": 23,
     "metadata": {},
     "output_type": "execute_result"
    }
   ],
   "source": [
    "group.generator.x  #基準点Gのx座標"
   ]
  },
  {
   "cell_type": "code",
   "execution_count": 24,
   "metadata": {},
   "outputs": [
    {
     "data": {
      "text/plain": [
       "32670510020758816978083085130507043184471273380659243275938904335757337482424"
      ]
     },
     "execution_count": 24,
     "metadata": {},
     "output_type": "execute_result"
    }
   ],
   "source": [
    "group.generator.y  #基準点Gのy座標"
   ]
  },
  {
   "cell_type": "code",
   "execution_count": 25,
   "metadata": {},
   "outputs": [
    {
     "data": {
      "text/plain": [
       "0"
      ]
     },
     "execution_count": 25,
     "metadata": {},
     "output_type": "execute_result"
    }
   ],
   "source": [
    "group.param_a"
   ]
  },
  {
   "cell_type": "code",
   "execution_count": 26,
   "metadata": {},
   "outputs": [
    {
     "data": {
      "text/plain": [
       "7"
      ]
     },
     "execution_count": 26,
     "metadata": {},
     "output_type": "execute_result"
    }
   ],
   "source": [
    "group.param_b\n",
    "#楕円曲線の係数a,b"
   ]
  },
  {
   "cell_type": "code",
   "execution_count": 27,
   "metadata": {},
   "outputs": [
    {
     "data": {
      "text/plain": [
       "115792089237316195423570985008687907852837564279074904382605163141518161494337"
      ]
     },
     "execution_count": 27,
     "metadata": {},
     "output_type": "execute_result"
    }
   ],
   "source": [
    "group.order  #Gの位数"
   ]
  },
  {
   "cell_type": "code",
   "execution_count": 28,
   "metadata": {},
   "outputs": [
    {
     "data": {
      "text/plain": [
       "115792089237316195423570985008687907852837564279074904382605163141518161494337"
      ]
     },
     "execution_count": 28,
     "metadata": {},
     "output_type": "execute_result"
    }
   ],
   "source": [
    "n = group.order"
   ]
  },
  {
   "cell_type": "code",
   "execution_count": 29,
   "metadata": {},
   "outputs": [
    {
     "data": {
      "text/plain": [
       "22643357734592591542726761309883994302006123969338798896004182198883787456244"
      ]
     },
     "execution_count": 29,
     "metadata": {},
     "output_type": "execute_result"
    }
   ],
   "source": [
    "privKey = 1 + SecureRandom.random_number(n-1)  ##1からn-1の秘密鍵生成"
   ]
  },
  {
   "cell_type": "code",
   "execution_count": 31,
   "metadata": {},
   "outputs": [
    {
     "data": {
      "text/plain": [
       "#<ECDSA::Point: secp256k1, 0xe420a3dc19c77e728411c1aa8d5421f7634e5f0922c096987e4ddcdf72dc7b82, 0xe40a6e2f181250f24e453968d033ce548a407ec2c79790603589891e4d8f3098>"
      ]
     },
     "execution_count": 31,
     "metadata": {},
     "output_type": "execute_result"
    }
   ],
   "source": [
    "pubKey = group.generator.multiply_by_scalar(privKey)  #公開鍵の生成"
   ]
  },
  {
   "cell_type": "code",
   "execution_count": 32,
   "metadata": {},
   "outputs": [
    {
     "data": {
      "text/plain": [
       "103184999501615312819164846188192744184659907724683073834916366981867222367106"
      ]
     },
     "execution_count": 32,
     "metadata": {},
     "output_type": "execute_result"
    }
   ],
   "source": [
    "pubKey.x #公開鍵のx座標"
   ]
  },
  {
   "cell_type": "code",
   "execution_count": null,
   "metadata": {},
   "outputs": [],
   "source": []
  },
  {
   "cell_type": "markdown",
   "metadata": {},
   "source": [
    "#### P52. ECDSAによる電子署名 "
   ]
  },
  {
   "cell_type": "code",
   "execution_count": 36,
   "metadata": {},
   "outputs": [
    {
     "data": {
      "text/plain": [
       "47417310054903541994983237977215774049613688428025167943558394579116660944486"
      ]
     },
     "execution_count": 36,
     "metadata": {},
     "output_type": "execute_result"
    }
   ],
   "source": [
    "#電子署名に必要な乱数\n",
    "k = 1 + SecureRandom.random_number(n-1)"
   ]
  },
  {
   "cell_type": "code",
   "execution_count": 42,
   "metadata": {},
   "outputs": [
    {
     "data": {
      "text/plain": [
       "\"この文字列が電子署名の対象\""
      ]
     },
     "execution_count": 42,
     "metadata": {},
     "output_type": "execute_result"
    }
   ],
   "source": [
    "message = \"この文字列が電子署名の対象\""
   ]
  },
  {
   "cell_type": "code",
   "execution_count": 38,
   "metadata": {},
   "outputs": [
    {
     "data": {
      "text/plain": [
       "\"37233eff1e816c4f466175179c8db7219bd861cd095b94bde07858591cfaa213\""
      ]
     },
     "execution_count": 38,
     "metadata": {},
     "output_type": "execute_result"
    }
   ],
   "source": [
    "digest = Digest::SHA256.hexdigest(message)"
   ]
  },
  {
   "cell_type": "markdown",
   "metadata": {},
   "source": [
    "##### 電子署名の作成"
   ]
  },
  {
   "cell_type": "code",
   "execution_count": 39,
   "metadata": {},
   "outputs": [
    {
     "data": {
      "text/plain": [
       "#<ECDSA::Signature:0x007fa1780934b0 @s=5918040661576968338043021348246690210512008044065610786258153253888858149866, @r=11737662224199287677466425954251685600916145251849182049048703291616563255508>"
      ]
     },
     "execution_count": 39,
     "metadata": {},
     "output_type": "execute_result"
    }
   ],
   "source": [
    "\n",
    "sign = ECDSA.sign(group,privKey,digest,k)"
   ]
  },
  {
   "cell_type": "code",
   "execution_count": 40,
   "metadata": {},
   "outputs": [
    {
     "data": {
      "text/plain": [
       "5918040661576968338043021348246690210512008044065610786258153253888858149866"
      ]
     },
     "execution_count": 40,
     "metadata": {},
     "output_type": "execute_result"
    }
   ],
   "source": [
    "#電子署名の結果はrとsと呼ばれる2つの整数の対となる\n",
    "sign.r\n",
    "sign.s"
   ]
  },
  {
   "cell_type": "markdown",
   "metadata": {},
   "source": [
    "##### 電子署名のバイナリコーディング\n",
    "\n",
    "ハードウェアに依存しないようにエンコーディングする"
   ]
  },
  {
   "cell_type": "code",
   "execution_count": 41,
   "metadata": {},
   "outputs": [
    {
     "data": {
      "text/plain": [
       "\"0D\\x02 \\x19\\xF3H\\t*\\xBA\\xDF\\xAD\\xF3\\xD5\\xC9=\\xFB\\xB8\\x9B*\\xD5\\xF5\\xD0\\xA8]\\xF1\\x1A\\xAE[\\e\\xC2\\x13`#X\\xD4\\x02 \\r\\x15~\\b8*M@q\\x04\\xFAlMO\\x1D\\x81\\xFF\\xD9{]\\xDB\\\"u\\x00\\x96\\xBA\\x19qY\\xDES\\xEA\""
      ]
     },
     "execution_count": 41,
     "metadata": {},
     "output_type": "execute_result"
    }
   ],
   "source": [
    "der_sign = ECDSA::Format::SignatureDerString.encode(sign)"
   ]
  },
  {
   "cell_type": "markdown",
   "metadata": {},
   "source": [
    "##### 電子署名の検証"
   ]
  },
  {
   "cell_type": "code",
   "execution_count": 43,
   "metadata": {},
   "outputs": [],
   "source": [
    "#受取人，受け取ったメッセージのダイジェストを作成\n",
    "#(ダイジェスト,公開鍵,電子署名) -> True or False"
   ]
  },
  {
   "cell_type": "code",
   "execution_count": 44,
   "metadata": {},
   "outputs": [
    {
     "data": {
      "text/plain": [
       "#<ECDSA::Signature:0x007fa1780b9958 @s=5918040661576968338043021348246690210512008044065610786258153253888858149866, @r=11737662224199287677466425954251685600916145251849182049048703291616563255508>"
      ]
     },
     "execution_count": 44,
     "metadata": {},
     "output_type": "execute_result"
    }
   ],
   "source": [
    "sign = ECDSA::Format::SignatureDerString.decode(der_sign) \n",
    "#受け取った電子署名をデコード"
   ]
  },
  {
   "cell_type": "code",
   "execution_count": 45,
   "metadata": {},
   "outputs": [
    {
     "data": {
      "text/plain": [
       "true"
      ]
     },
     "execution_count": 45,
     "metadata": {},
     "output_type": "execute_result"
    }
   ],
   "source": [
    "#電子署名の検証\n",
    "ECDSA.valid_signature?(pubKey,digest,sign)"
   ]
  },
  {
   "cell_type": "markdown",
   "metadata": {},
   "source": [
    "#### 電子署名作成が何をやっているのかはP55を参照"
   ]
  },
  {
   "cell_type": "markdown",
   "metadata": {},
   "source": [
    "署名作成の引数：秘密鍵，乱数，メッセージダイジェスト，楕円曲線情報(使用する楕円曲線，ベースポイントG，Gの位数n)  \n",
    "※秘密鍵と乱数は署名者のみが知る\n",
    "\n",
    "署名の出力：(r,s)\n",
    "\n",
    "署名検証の引数：署名の出力(r,s)，公開鍵，メッセージダイジェスト\n",
    "\n",
    "Gとk*Gからkを求めることが難しい非対称性を利用．\n",
    "すなわち，乱数kは提示しない代わりに，k*Gを提示する．"
   ]
  },
  {
   "cell_type": "markdown",
   "metadata": {},
   "source": [
    "#### p.58  base58エンコーディング，デコーディング"
   ]
  },
  {
   "cell_type": "markdown",
   "metadata": {},
   "source": [
    "16進数Bitcoin address <-> 数字，大文字，小文字から紛らわしい文字を除いた58進数"
   ]
  },
  {
   "cell_type": "markdown",
   "metadata": {},
   "source": [
    "#### p.59  プレフィックス(prefix)\n",
    "\n",
    "BTCアドレスの先頭1ビットはバージョンや種別を表す  \n",
    "ex) 1はBTCアドレス(main net)を表す"
   ]
  },
  {
   "cell_type": "markdown",
   "metadata": {},
   "source": [
    "#### p.60 　チェックサム(checksum)\n",
    "BTCアドレスの写し間違いを防ぐために末尾4バイト分を検査符号として加える\n",
    "\n",
    "(checksum) = (SHA256(SHA256(prefix+512ビット公開鍵))の上位4バイト)"
   ]
  },
  {
   "cell_type": "markdown",
   "metadata": {},
   "source": [
    "#### p.60  ペイロード(payload)\n",
    "ペイロード：BTCアドレスの本体  \n",
    "(payload) = RIPEMD160(SHA256(公開鍵))"
   ]
  },
  {
   "cell_type": "markdown",
   "metadata": {},
   "source": [
    "### BTC addressの生成\n",
    "256bit or 512bit 公開鍵 -> prefix + payload + checksum -> base58 encoding -> BTC address"
   ]
  },
  {
   "cell_type": "code",
   "execution_count": 1,
   "metadata": {},
   "outputs": [
    {
     "data": {
      "text/plain": [
       "true"
      ]
     },
     "execution_count": 1,
     "metadata": {},
     "output_type": "execute_result"
    }
   ],
   "source": [
    "#rubyを使った実装\n",
    "require 'bitcoin'"
   ]
  },
  {
   "cell_type": "code",
   "execution_count": 2,
   "metadata": {},
   "outputs": [
    {
     "data": {
      "text/plain": [
       "[\"8708938fb361fc75b1a14dc8562f3259da5a9f181d47a6dae5603e9e6c45bddd\", \"04609aa71cd17faaeb4b394cb0a25f190a8c458c35dbd37eececdd726f13e25e08acc62db42e59284932157a47479479a28aed2cf2c053b13afe29c6a1d6810bf6\"]"
      ]
     },
     "execution_count": 2,
     "metadata": {},
     "output_type": "execute_result"
    }
   ],
   "source": [
    "key = Bitcoin::generate_key"
   ]
  },
  {
   "cell_type": "code",
   "execution_count": 5,
   "metadata": {},
   "outputs": [
    {
     "data": {
      "text/plain": [
       "\"\\x04`\\x9A\\xA7\\x1C\\xD1\\x7F\\xAA\\xEBK9L\\xB0\\xA2_\\x19\\n\\x8CE\\x8C5\\xDB\\xD3~\\xEC\\xEC\\xDDro\\x13\\xE2^\\b\\xAC\\xC6-\\xB4.Y(I2\\x15zGG\\x94y\\xA2\\x8A\\xED,\\xF2\\xC0S\\xB1:\\xFE)\\xC6\\xA1\\xD6\\x81\\v\\xF6\""
      ]
     },
     "execution_count": 5,
     "metadata": {},
     "output_type": "execute_result"
    }
   ],
   "source": [
    "pubkey = [key[1]].pack(\"H*\") #16進数文字列をビット列に変換 asciiが変なことする"
   ]
  },
  {
   "cell_type": "code",
   "execution_count": 34,
   "metadata": {},
   "outputs": [
    {
     "data": {
      "text/plain": [
       "\"04609aa71cd17faaeb4b394cb0a25f190a8c458c35dbd37eececdd726f13e25e08acc62db42e59284932157a47479479a28aed2cf2c053b13afe29c6a1d6810bf6\""
      ]
     },
     "execution_count": 34,
     "metadata": {},
     "output_type": "execute_result"
    }
   ],
   "source": [
    "key[1]"
   ]
  },
  {
   "cell_type": "code",
   "execution_count": null,
   "metadata": {},
   "outputs": [],
   "source": []
  },
  {
   "cell_type": "code",
   "execution_count": null,
   "metadata": {},
   "outputs": [],
   "source": []
  },
  {
   "cell_type": "code",
   "execution_count": 13,
   "metadata": {},
   "outputs": [
    {
     "data": {
      "text/plain": [
       "\"\\x00\""
      ]
     },
     "execution_count": 13,
     "metadata": {},
     "output_type": "execute_result"
    }
   ],
   "source": [
    "[\"0\"].pack(\"H*\")"
   ]
  },
  {
   "cell_type": "code",
   "execution_count": 37,
   "metadata": {},
   "outputs": [
    {
     "data": {
      "text/plain": [
       "\"A\""
      ]
     },
     "execution_count": 37,
     "metadata": {},
     "output_type": "execute_result"
    }
   ],
   "source": [
    "[\"41\"].pack(\"H*\")"
   ]
  },
  {
   "cell_type": "code",
   "execution_count": 12,
   "metadata": {},
   "outputs": [
    {
     "data": {
      "text/plain": [
       "\"\\x10\""
      ]
     },
     "execution_count": 12,
     "metadata": {},
     "output_type": "execute_result"
    }
   ],
   "source": [
    "[\"1\"].pack(\"H*\")"
   ]
  },
  {
   "cell_type": "code",
   "execution_count": 35,
   "metadata": {},
   "outputs": [
    {
     "data": {
      "text/plain": [
       "\"\\x10\""
      ]
     },
     "execution_count": 35,
     "metadata": {},
     "output_type": "execute_result"
    }
   ],
   "source": [
    "[\"10\"].pack(\"H*\")"
   ]
  },
  {
   "cell_type": "code",
   "execution_count": 19,
   "metadata": {},
   "outputs": [
    {
     "data": {
      "text/plain": [
       "\"\\x10\\x00\\x00\""
      ]
     },
     "execution_count": 19,
     "metadata": {},
     "output_type": "execute_result"
    }
   ],
   "source": [
    "[\"100000\"].pack(\"H*\")"
   ]
  },
  {
   "cell_type": "code",
   "execution_count": 20,
   "metadata": {},
   "outputs": [
    {
     "data": {
      "text/plain": [
       "\"\\xA0\\x00\\x00\""
      ]
     },
     "execution_count": 20,
     "metadata": {},
     "output_type": "execute_result"
    }
   ],
   "source": [
    "[\"a00000\"].pack(\"H*\")"
   ]
  },
  {
   "cell_type": "code",
   "execution_count": 21,
   "metadata": {},
   "outputs": [
    {
     "data": {
      "text/plain": [
       "\"\\x124V\""
      ]
     },
     "execution_count": 21,
     "metadata": {},
     "output_type": "execute_result"
    }
   ],
   "source": [
    "[\"123456\"].pack(\"H*\")"
   ]
  },
  {
   "cell_type": "code",
   "execution_count": 27,
   "metadata": {},
   "outputs": [
    {
     "data": {
      "text/plain": [
       "[\"0460\"]"
      ]
     },
     "execution_count": 27,
     "metadata": {},
     "output_type": "execute_result"
    }
   ],
   "source": [
    "\"\\x04`\".unpack(\"H*\")"
   ]
  },
  {
   "cell_type": "code",
   "execution_count": 28,
   "metadata": {},
   "outputs": [
    {
     "data": {
      "text/plain": [
       "[\"04609a\"]"
      ]
     },
     "execution_count": 28,
     "metadata": {},
     "output_type": "execute_result"
    }
   ],
   "source": [
    "\"\\x04`\\x9A\".unpack(\"H*\")"
   ]
  },
  {
   "cell_type": "code",
   "execution_count": 36,
   "metadata": {},
   "outputs": [
    {
     "data": {
      "text/plain": [
       "[\"41\"]"
      ]
     },
     "execution_count": 36,
     "metadata": {},
     "output_type": "execute_result"
    }
   ],
   "source": [
    "\"\\x41\".unpack(\"H*\")"
   ]
  },
  {
   "cell_type": "code",
   "execution_count": 38,
   "metadata": {},
   "outputs": [
    {
     "data": {
      "text/plain": [
       "[\"9a\"]"
      ]
     },
     "execution_count": 38,
     "metadata": {},
     "output_type": "execute_result"
    }
   ],
   "source": [
    "\"\\x9A\".unpack(\"H*\")"
   ]
  },
  {
   "cell_type": "code",
   "execution_count": 32,
   "metadata": {},
   "outputs": [
    {
     "data": {
      "text/plain": [
       "[\"04609aa71cd17faaeb4b394cb0a25f190a8c458c35dbd37eececdd726f13e25e08acc62db42e59284932157a47479479a28aed2cf2c053b13afe29c6a1d6810bf6\"]"
      ]
     },
     "execution_count": 32,
     "metadata": {},
     "output_type": "execute_result"
    }
   ],
   "source": [
    "\"\\x04`\\x9A\\xA7\\x1C\\xD1\\x7F\\xAA\\xEBK9L\\xB0\\xA2_\\x19\\n\\x8CE\\x8C5\\xDB\\xD3~\\xEC\\xEC\\xDDro\\x13\\xE2^\\b\\xAC\\xC6-\\xB4.Y(I2\\x15zGG\\x94y\\xA2\\x8A\\xED,\\xF2\\xC0S\\xB1:\\xFE)\\xC6\\xA1\\xD6\\x81\\v\\xF6\".unpack(\"H*\")"
   ]
  },
  {
   "cell_type": "code",
   "execution_count": null,
   "metadata": {},
   "outputs": [],
   "source": []
  }
 ],
 "metadata": {
  "kernelspec": {
   "display_name": "Ruby 2.4.1",
   "language": "ruby",
   "name": "ruby"
  },
  "language_info": {
   "file_extension": ".rb",
   "mimetype": "application/x-ruby",
   "name": "ruby",
   "version": "2.4.1"
  }
 },
 "nbformat": 4,
 "nbformat_minor": 2
}
