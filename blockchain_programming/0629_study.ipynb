{
 "cells": [
  {
   "cell_type": "code",
   "execution_count": 1,
   "metadata": {},
   "outputs": [
    {
     "data": {
      "text/plain": [
       "false"
      ]
     },
     "execution_count": 1,
     "metadata": {},
     "output_type": "execute_result"
    }
   ],
   "source": [
    "require 'bitcoin'\n",
    "require 'digest'"
   ]
  },
  {
   "cell_type": "code",
   "execution_count": 2,
   "metadata": {},
   "outputs": [
    {
     "data": {
      "text/plain": [
       "\"6 6 OP_EQUAL OP_HASH160 <0xYP9\\xBC*\\x05\\xA4\\x02\\x8BgIQ`o\\x1EQ\\xE0 OP_EQUAL\""
      ]
     },
     "execution_count": 2,
     "metadata": {},
     "output_type": "execute_result"
    }
   ],
   "source": [
    "RedeemScript = \"6 OP_EQUAL\"\n",
    "digest = Digest::RMD160.digest(RedeemScript)\n",
    "unlock = \"6 \"+RedeemScript\n",
    "ulscript = unlock + \" OP_HASH160 \" +digest+  \" OP_EQUAL\"\n"
   ]
  },
  {
   "cell_type": "code",
   "execution_count": 3,
   "metadata": {},
   "outputs": [
    {
     "name": "stderr",
     "output_type": "stream",
     "text": [
      "/Users/kazuki/.rbenv/versions/2.4.1/lib/ruby/gems/2.4.0/gems/bitcoin-ruby-0.0.14/lib/bitcoin/script.rb:420: warning: constant ::Fixnum is deprecated\n"
     ]
    },
    {
     "data": {
      "text/plain": [
       "#<Bitcoin::Script:0x007fc6cd9f53d0 @raw_byte_sizes=[16, 0], @previous_output_script=nil, @input_script=\"VV\\x87\\xA9\\n\\xC0\\x12\\x99\\xCAT+\\x02\\xA0\\x8E\\xA0\\x87\", @raw=\"VV\\x87\\xA9\\n\\xC0\\x12\\x99\\xCAT+\\x02\\xA0\\x8E\\xA0\\x87\", @chunks=[86, 86, 135, 169, \"\\xC0\\x12\\x99\\xCAT+\\x02\\xA0\\x8E\\xA0\", 135], @exec_stack=[], @stack_alt=[], @stack=[], @last_codeseparator_index=0, @do_exec=true>"
      ]
     },
     "execution_count": 3,
     "metadata": {},
     "output_type": "execute_result"
    }
   ],
   "source": [
    "script = Bitcoin::Script.from_string(ulscript)"
   ]
  },
  {
   "cell_type": "code",
   "execution_count": 4,
   "metadata": {},
   "outputs": [
    {
     "name": "stderr",
     "output_type": "stream",
     "text": [
      "/Users/kazuki/.rbenv/versions/2.4.1/lib/ruby/gems/2.4.0/gems/bitcoin-ruby-0.0.14/lib/bitcoin/script.rb:455: warning: constant ::Fixnum is deprecated\n"
     ]
    },
    {
     "data": {
      "text/plain": [
       "false"
      ]
     },
     "execution_count": 4,
     "metadata": {},
     "output_type": "execute_result"
    }
   ],
   "source": [
    "script.run"
   ]
  },
  {
   "cell_type": "code",
   "execution_count": 5,
   "metadata": {},
   "outputs": [
    {
     "data": {
      "text/plain": [
       "[[], \"OP_6\", [6], \"OP_6\", [6, 6], \"OP_EQUAL\", [1], \"OP_HASH160\", [[\"c51b66bced5e4491001bd702669770dccf440982\"]], \"PUSH DATA c01299ca542b02a08ea0\", [[\"c51b66bced5e4491001bd702669770dccf440982\"], [\"c01299ca542b02a08ea0\"]], \"OP_EQUAL\", [0], \"RESULT\"]"
      ]
     },
     "execution_count": 5,
     "metadata": {},
     "output_type": "execute_result"
    }
   ],
   "source": [
    "script.debug"
   ]
  },
  {
   "cell_type": "code",
   "execution_count": null,
   "metadata": {},
   "outputs": [],
   "source": []
  }
 ],
 "metadata": {
  "kernelspec": {
   "display_name": "Ruby 2.4.1",
   "language": "ruby",
   "name": "ruby"
  },
  "language_info": {
   "file_extension": ".rb",
   "mimetype": "application/x-ruby",
   "name": "ruby",
   "version": "2.4.1"
  }
 },
 "nbformat": 4,
 "nbformat_minor": 2
}
